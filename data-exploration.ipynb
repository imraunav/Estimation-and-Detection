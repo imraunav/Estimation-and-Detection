{
 "cells": [
  {
   "cell_type": "code",
   "execution_count": 5,
   "metadata": {},
   "outputs": [
    {
     "name": "stdout",
     "output_type": "stream",
     "text": [
      "Requirement already satisfied: PyWavelets in /Users/raunavghosh/miniconda3/envs/.env/lib/python3.10/site-packages (1.4.1)\n",
      "Requirement already satisfied: numpy>=1.17.3 in /Users/raunavghosh/miniconda3/envs/.env/lib/python3.10/site-packages (from PyWavelets) (1.23.2)\n"
     ]
    }
   ],
   "source": [
    "# !pip install PyWavelets"
   ]
  },
  {
   "cell_type": "code",
   "execution_count": 1,
   "metadata": {},
   "outputs": [],
   "source": [
    "# import mne\n",
    "import pandas as pd\n",
    "import numpy as np\n",
    "import matplotlib.pyplot as plt\n",
    "import pywt\n",
    "# from scipy.stats import skew\n",
    "from tqdm import tqdm"
   ]
  },
  {
   "cell_type": "code",
   "execution_count": 2,
   "metadata": {},
   "outputs": [],
   "source": [
    "# patients_numbers = [\"01\", \"02\", \"03\", \"05\", \"07\", \"08\", \"10\"]\n",
    "# # \"06\" has 10 seizures \n",
    "# # \"24\" has 16 seizures"
   ]
  },
  {
   "cell_type": "code",
   "execution_count": 3,
   "metadata": {},
   "outputs": [
    {
     "name": "stdout",
     "output_type": "stream",
     "text": [
      "train_signals\n",
      "train_labels\n"
     ]
    }
   ],
   "source": [
    "x = np.load('./chb-mit-kaggle/eeg-seizure_train.npz', mmap_mode='r')\n",
    "for k in x.files:\n",
    "    print(k)"
   ]
  },
  {
   "cell_type": "code",
   "execution_count": 4,
   "metadata": {},
   "outputs": [],
   "source": [
    "npz_file = np.load(\"./chb-mit-kaggle/eeg-seizure_train.npz\", allow_pickle=True)"
   ]
  },
  {
   "cell_type": "code",
   "execution_count": 5,
   "metadata": {},
   "outputs": [],
   "source": [
    "train_signals = npz_file['train_signals']\n",
    "train_labels = npz_file['train_labels']\n",
    "\n",
    "seizure = train_signals[train_labels==1]\n",
    "non_seizure = train_signals[train_labels==0]\n"
   ]
  },
  {
   "cell_type": "code",
   "execution_count": 6,
   "metadata": {},
   "outputs": [
    {
     "data": {
      "text/plain": [
       "((37666, 23, 256), (37666,))"
      ]
     },
     "execution_count": 6,
     "metadata": {},
     "output_type": "execute_result"
    }
   ],
   "source": [
    "train_signals.shape, train_labels.shape"
   ]
  },
  {
   "cell_type": "code",
   "execution_count": 7,
   "metadata": {},
   "outputs": [
    {
     "data": {
      "text/plain": [
       "((8074, 23, 256), (29592, 23, 256))"
      ]
     },
     "execution_count": 7,
     "metadata": {},
     "output_type": "execute_result"
    }
   ],
   "source": [
    "seizure.shape, non_seizure.shape"
   ]
  },
  {
   "cell_type": "code",
   "execution_count": 8,
   "metadata": {},
   "outputs": [
    {
     "data": {
      "image/png": "[encoded data removed]",
      "text/plain": [
       "<Figure size 640x480 with 2 Axes>"
      ]
     },
     "metadata": {},
     "output_type": "display_data"
    }
   ],
   "source": [
    "plt.subplot(2,1,1)\n",
    "plt.hist(seizure.reshape(-1), bins=500, density=True)\n",
    "plt.title(\"Seizure\")\n",
    "plt.xlim([-1000, 1000])\n",
    "\n",
    "plt.subplot(2,1,2)\n",
    "plt.hist(non_seizure.reshape(-1), bins=500, density=True)\n",
    "plt.title(\"Non-seizure\")\n",
    "plt.xlim([-1000, 1000])\n",
    "plt.show()"
   ]
  },
  {
   "cell_type": "code",
   "execution_count": null,
   "metadata": {},
   "outputs": [],
   "source": []
  },
  {
   "cell_type": "code",
   "execution_count": null,
   "metadata": {},
   "outputs": [],
   "source": []
  },
  {
   "cell_type": "code",
   "execution_count": 14,
   "metadata": {},
   "outputs": [],
   "source": [
    "# feature engineering\n",
    "def feature_engineering(train_signals):\n",
    "    train_feature = []\n",
    "    for sample in tqdm(train_signals):\n",
    "        # for i in range(int(sample.shape[1])+1):\n",
    "            # Calculate DWT of 1 sec. epochs using \"coif3\" and 7 level.\n",
    "                coeffs = pywt.wavedec(sample[0:23, 0:256], \"coif3\", level=7)\n",
    "                cA7, cD7, cD6, cD5, cD4, cD3, cD2, cD1 = coeffs\n",
    "                band1_en = []\n",
    "                band2_en = []\n",
    "                band3_en = []\n",
    "                band4_en = []\n",
    "                band5_en = []\n",
    "                band6_en = []\n",
    "\n",
    "                band1_max = []\n",
    "                band2_max = []\n",
    "                band3_max = []\n",
    "                band4_max = []\n",
    "                band5_max = []\n",
    "                band6_max = []\n",
    "\n",
    "                band1_min = []\n",
    "                band2_min = []\n",
    "                band3_min = []\n",
    "                band4_min = []\n",
    "                band5_min = []\n",
    "                band6_min = []\n",
    "\n",
    "                band1_mean = []\n",
    "                band2_mean = []\n",
    "                band3_mean = []\n",
    "                band4_mean = []\n",
    "                band5_mean = []\n",
    "                band6_mean = []\n",
    "\n",
    "                band1_std = []\n",
    "                band2_std = []\n",
    "                band3_std = []\n",
    "                band4_std = []\n",
    "                band5_std = []\n",
    "                band6_std = []\n",
    "\n",
    "                band1_skew = []\n",
    "                band2_skew = []\n",
    "                band3_skew = []\n",
    "                band4_skew = []\n",
    "                band5_skew = []\n",
    "                band6_skew = []\n",
    "                # Calculate 5 features of DWT coefficients.\n",
    "                for i in range(len(cD1)):\n",
    "                    band1_en.append(np.sum(cD7[i, :] ** 2))\n",
    "                    band2_en.append(np.sum(cD6[i, :] ** 2))\n",
    "                    band3_en.append(np.sum(cD5[i, :] ** 2))\n",
    "                    band4_en.append(np.sum(cD4[i, :] ** 2))\n",
    "                    band5_en.append(np.sum(cD3[i, :] ** 2))\n",
    "                    band6_en.append(np.sum(cD2[i, :] ** 2))\n",
    "\n",
    "                    band1_max.append(np.max(cD7[i, :]))\n",
    "                    band2_max.append(np.max(cD6[i, :]))\n",
    "                    band3_max.append(np.max(cD5[i, :]))\n",
    "                    band4_max.append(np.max(cD4[i, :]))\n",
    "                    band5_max.append(np.max(cD3[i, :]))\n",
    "                    band6_max.append(np.max(cD2[i, :]))\n",
    "\n",
    "                    band1_min.append(np.min(cD7[i, :]))\n",
    "                    band2_min.append(np.min(cD6[i, :]))\n",
    "                    band3_min.append(np.min(cD5[i, :]))\n",
    "                    band4_min.append(np.min(cD4[i, :]))\n",
    "                    band5_min.append(np.min(cD3[i, :]))\n",
    "                    band6_min.append(np.min(cD2[i, :]))\n",
    "\n",
    "                    band1_mean.append(np.mean(cD7[i, :]))\n",
    "                    band2_mean.append(np.mean(cD6[i, :]))\n",
    "                    band3_mean.append(np.mean(cD5[i, :]))\n",
    "                    band4_mean.append(np.mean(cD4[i, :]))\n",
    "                    band5_mean.append(np.mean(cD3[i, :]))\n",
    "                    band6_mean.append(np.mean(cD2[i, :]))\n",
    "\n",
    "                    band1_std.append(np.std(cD7[i, :]))\n",
    "                    band2_std.append(np.std(cD6[i, :]))\n",
    "                    band3_std.append(np.std(cD5[i, :]))\n",
    "                    band4_std.append(np.std(cD4[i, :]))\n",
    "                    band5_std.append(np.std(cD3[i, :]))\n",
    "                    band6_std.append(np.std(cD2[i, :]))\n",
    "\n",
    "\n",
    "                band1_en = (np.array(band1_en).reshape(1, -1))\n",
    "                band2_en = (np.array(band2_en).reshape(1, -1))\n",
    "                band3_en = (np.array(band3_en).reshape(1, -1))\n",
    "                band4_en = (np.array(band4_en).reshape(1, -1))\n",
    "                band5_en = (np.array(band5_en).reshape(1, -1))\n",
    "                band6_en = (np.array(band6_en).reshape(1, -1))\n",
    "\n",
    "                band1_max = np.array(band1_max).reshape(1, -1)\n",
    "                band2_max = np.array(band2_max).reshape(1, -1)\n",
    "                band3_max = np.array(band3_max).reshape(1, -1)\n",
    "                band4_max = np.array(band4_max).reshape(1, -1)\n",
    "                band5_max = np.array(band5_max).reshape(1, -1)\n",
    "                band6_max = np.array(band6_max).reshape(1, -1)\n",
    "\n",
    "                band1_min = np.array(band1_min).reshape(1, -1)\n",
    "                band2_min = np.array(band2_min).reshape(1, -1)\n",
    "                band3_min = np.array(band3_min).reshape(1, -1)\n",
    "                band4_min = np.array(band4_min).reshape(1, -1)\n",
    "                band5_min = np.array(band5_min).reshape(1, -1)\n",
    "                band6_min = np.array(band6_min).reshape(1, -1)\n",
    "\n",
    "                band1_mean = np.array(band1_mean).reshape(1, -1)\n",
    "                band2_mean = np.array(band2_mean).reshape(1, -1)\n",
    "                band3_mean = np.array(band3_mean).reshape(1, -1)\n",
    "                band4_mean = np.array(band4_mean).reshape(1, -1)\n",
    "                band5_mean = np.array(band5_mean).reshape(1, -1)\n",
    "                band6_mean = np.array(band6_mean).reshape(1, -1)\n",
    "\n",
    "                band1_std = np.array(band1_std).reshape(1, -1)\n",
    "                band2_std = np.array(band2_std).reshape(1, -1)\n",
    "                band3_std = np.array(band3_std).reshape(1, -1)\n",
    "                band4_std = np.array(band4_std).reshape(1, -1)\n",
    "                band5_std = np.array(band5_std).reshape(1, -1)\n",
    "                band6_std = np.array(band6_std).reshape(1, -1)\n",
    "\n",
    "                # Create feature vector.\n",
    "                feature_vector = np.concatenate((band1_en, band1_max, band1_min, band1_mean, band1_std,\n",
    "                                                    band2_en, band2_max, band2_min, band2_mean, band2_std, \n",
    "                                                    band3_en, band3_max, band3_min, band3_mean, band3_std,\n",
    "                                                    band4_en, band4_max, band4_min, band4_mean, band4_std,\n",
    "                                                    band5_en, band5_max, band5_min, band5_mean, band5_std,\n",
    "                                                    band6_en, band6_max, band6_min, band6_mean, band6_std,                                                ), axis=0)\n",
    "                # print(np.transpose(feature_vector).shape)\n",
    "                # Obtain training dataset as a list of array.\n",
    "                train_feature.append(np.transpose(feature_vector))\n",
    "    return train_feature\n",
    "            \n"
   ]
  },
  {
   "cell_type": "code",
   "execution_count": 15,
   "metadata": {},
   "outputs": [],
   "source": [
    "# train_feature = feature_engineering(train_signals)"
   ]
  },
  {
   "cell_type": "code",
   "execution_count": 16,
   "metadata": {},
   "outputs": [],
   "source": [
    "import pickle \n",
    "\n",
    "# with open(\"dwt_features.pkl\", mode=\"wb\") as file:\n",
    "#     pickle.dump(train_feature, file, pickle.HIGHEST_PROTOCOL)\n",
    "with open(\"dwt_features.pkl\", mode=\"rb\") as file:\n",
    "    train_feature = pickle.load(file)\n"
   ]
  },
  {
   "cell_type": "code",
   "execution_count": 17,
   "metadata": {},
   "outputs": [
    {
     "data": {
      "text/plain": [
       "(37666, 23, 30)"
      ]
     },
     "execution_count": 17,
     "metadata": {},
     "output_type": "execute_result"
    }
   ],
   "source": [
    "train_feature = np.array(train_feature)\n",
    "train_feature.shape"
   ]
  },
  {
   "cell_type": "code",
   "execution_count": 18,
   "metadata": {},
   "outputs": [],
   "source": [
    "train_feature_seizure = train_feature[train_labels==1]\n",
    "train_feature_nonseizure = train_feature[train_labels==0]"
   ]
  },
  {
   "attachments": {},
   "cell_type": "markdown",
   "metadata": {},
   "source": [
    "# Visualize for channel 1"
   ]
  },
  {
   "cell_type": "code",
   "execution_count": 19,
   "metadata": {},
   "outputs": [],
   "source": [
    "# for j in range(23):\n",
    "#     print(f\"Channel{1+j}\")\n",
    "#     for i in tqdm(range(30)):\n",
    "#         # plt.subplot(2,1,1)\n",
    "#         plt.hist(train_feature_seizure[:, 0, i], bins=500, density=True)\n",
    "#         # plt.title(\"Seizure\")\n",
    "#         # plt.ylabel(\"PDF\")\n",
    "\n",
    "#         # plt.subplot(2,1,2)\n",
    "#         plt.hist(train_feature_nonseizure[:, 0, i], bins=500, density=True)\n",
    "#         # plt.title(\"Non-seizure\")\n",
    "#         plt.ylabel(\"PDF\")\n",
    "#         plt.legend([\"Seizure\", \"Non-seizure\"])\n",
    "\n",
    "#         plt.suptitle(f\"Channel{j}: Feature {i+1}\")\n",
    "#         # plt.show()\n",
    "#         plt.savefig(f\"./plots/Channel{j}: Feature {i+1}.png\")\n",
    "#         plt.close()\n",
    "\n"
   ]
  },
  {
   "attachments": {},
   "cell_type": "markdown",
   "metadata": {},
   "source": [
    "# Taking one feature from one class as our discriminative feature"
   ]
  },
  {
   "cell_type": "code",
   "execution_count": 20,
   "metadata": {},
   "outputs": [
    {
     "name": "stdout",
     "output_type": "stream",
     "text": [
      "val_signals\n",
      "val_labels\n"
     ]
    }
   ],
   "source": [
    "x = np.load('./chb-mit-kaggle/eeg-seizure_val.npz', mmap_mode='r')\n",
    "for k in x.files:\n",
    "    print(k)"
   ]
  },
  {
   "cell_type": "code",
   "execution_count": 21,
   "metadata": {},
   "outputs": [],
   "source": [
    "npz_file = np.load(\"./chb-mit-kaggle/eeg-seizure_val.npz\", allow_pickle=True)\n",
    "test_signals = npz_file['val_signals']\n",
    "test_labels = npz_file['val_labels']\n"
   ]
  },
  {
   "cell_type": "code",
   "execution_count": 22,
   "metadata": {},
   "outputs": [
    {
     "name": "stderr",
     "output_type": "stream",
     "text": [
      "  0%|          | 0/8071 [00:00<?, ?it/s]/Users/raunavghosh/miniconda3/envs/.env/lib/python3.10/site-packages/pywt/_multilevel.py:43: UserWarning: Level value of 7 is too high: all coefficients will experience boundary effects.\n",
      "  warnings.warn(\n",
      "100%|██████████| 8071/8071 [00:16<00:00, 486.68it/s]\n"
     ]
    }
   ],
   "source": [
    "test_features = feature_engineering(test_signals)"
   ]
  },
  {
   "cell_type": "code",
   "execution_count": 23,
   "metadata": {},
   "outputs": [],
   "source": [
    "def gaussian(x, mean, std_dev):\n",
    "    den = np.sqrt(2*np.pi)*std_dev\n",
    "    num = np.exp(0.5*(x-mean)**2 / (std_dev+1e-8), dtype='float')\n",
    "    return num/den"
   ]
  },
  {
   "cell_type": "code",
   "execution_count": 24,
   "metadata": {},
   "outputs": [
    {
     "data": {
      "text/plain": [
       "(0.21435777624382732, 0.7856422237561727)"
      ]
     },
     "execution_count": 24,
     "metadata": {},
     "output_type": "execute_result"
    }
   ],
   "source": [
    "f_idx = (6, 2)# feature index; channel 9, feature 15\n",
    "\n",
    "s_prior = sum(train_labels)/len(train_labels)\n",
    "ns_prior = 1 - s_prior\n",
    "s_prior, ns_prior"
   ]
  },
  {
   "cell_type": "code",
   "execution_count": 25,
   "metadata": {},
   "outputs": [
    {
     "data": {
      "text/plain": [
       "(6, 2)"
      ]
     },
     "execution_count": 25,
     "metadata": {},
     "output_type": "execute_result"
    }
   ],
   "source": [
    "f_idx"
   ]
  },
  {
   "cell_type": "code",
   "execution_count": 26,
   "metadata": {},
   "outputs": [
    {
     "data": {
      "text/plain": [
       "(-469.1233076011241, -197.65968719239333)"
      ]
     },
     "execution_count": 26,
     "metadata": {},
     "output_type": "execute_result"
    }
   ],
   "source": [
    "s_mean = np.mean(train_feature_seizure[:, f_idx[0], f_idx[1]])\n",
    "ns_mean = np.mean(train_feature_nonseizure[:, f_idx[0], f_idx[1]])\n",
    "s_mean, ns_mean"
   ]
  },
  {
   "cell_type": "code",
   "execution_count": 27,
   "metadata": {},
   "outputs": [
    {
     "data": {
      "text/plain": [
       "(586.453998709449, 250.37836509347096)"
      ]
     },
     "execution_count": 27,
     "metadata": {},
     "output_type": "execute_result"
    }
   ],
   "source": [
    "s_std_dev = np.std(train_feature_seizure[:, f_idx[0], f_idx[1]])\n",
    "ns_std_dev = np.std(train_feature_nonseizure[:, f_idx[0], f_idx[1]])\n",
    "s_std_dev, ns_std_dev"
   ]
  },
  {
   "cell_type": "code",
   "execution_count": 28,
   "metadata": {},
   "outputs": [
    {
     "data": {
      "text/plain": [
       "(8071, 23, 30)"
      ]
     },
     "execution_count": 28,
     "metadata": {},
     "output_type": "execute_result"
    }
   ],
   "source": [
    "test_features = np.array(test_features)\n",
    "test_features.shape"
   ]
  },
  {
   "cell_type": "code",
   "execution_count": 29,
   "metadata": {},
   "outputs": [],
   "source": [
    "def prediction(test_features, threshold, f_idx):\n",
    "    # threshold = 0.5\n",
    "    preds = []\n",
    "    for x in test_features[:, f_idx[0], f_idx[1]]:\n",
    "        s_lh = gaussian(x, s_mean, s_std_dev)\n",
    "        ns_lh = gaussian(x, ns_mean, ns_std_dev)\n",
    "\n",
    "        lrt = s_lh/ns_lh\n",
    "        if lrt > threshold:\n",
    "            preds.append(1)\n",
    "        else:\n",
    "            preds.append(0)\n",
    "    return preds"
   ]
  },
  {
   "cell_type": "code",
   "execution_count": 30,
   "metadata": {},
   "outputs": [],
   "source": [
    "def get_tpr_fpr(true, pred):\n",
    "    tpr = 0\n",
    "    fpr = 0\n",
    "    for t, p  in zip(true, pred):\n",
    "        if t==1 and p==1:\n",
    "            tpr += 1\n",
    "        if t==0 and p==1:\n",
    "            fpr += 1\n",
    "    return tpr/len(true), fpr/len(pred)"
   ]
  },
  {
   "cell_type": "code",
   "execution_count": 31,
   "metadata": {},
   "outputs": [
    {
     "name": "stderr",
     "output_type": "stream",
     "text": [
      "/var/folders/xb/h53k7r3j5_55k9r3s9dzr_tr0000gn/T/ipykernel_67035/2952110587.py:3: RuntimeWarning: overflow encountered in exp\n",
      "  num = np.exp(0.5*(x-mean)**2 / (std_dev+1e-8), dtype='float')\n",
      "/var/folders/xb/h53k7r3j5_55k9r3s9dzr_tr0000gn/T/ipykernel_67035/763660226.py:8: RuntimeWarning: invalid value encountered in double_scalars\n",
      "  lrt = s_lh/ns_lh\n"
     ]
    },
    {
     "data": {
      "image/png": "[encoded data removed]",
      "text/plain": [
       "<Figure size 640x480 with 1 Axes>"
      ]
     },
     "metadata": {},
     "output_type": "display_data"
    }
   ],
   "source": [
    "tpr_all=[]\n",
    "fpr_all=[]\n",
    "for threshold in np.arange(0, 1, 0.01):\n",
    "    pred = prediction(test_features, threshold, f_idx)\n",
    "    tpr, fpr = get_tpr_fpr(test_labels, pred)\n",
    "    tpr_all.append(tpr)\n",
    "    fpr_all.append(fpr)\n",
    "plt.plot(fpr_all, tpr_all)\n",
    "plt.title(\"ROC\")\n",
    "plt.xlabel(\"False positive rate\")\n",
    "plt.ylabel(\"True positive rate\")\n",
    "plt.show()"
   ]
  },
  {
   "cell_type": "code",
   "execution_count": 32,
   "metadata": {},
   "outputs": [
    {
     "name": "stdout",
     "output_type": "stream",
     "text": [
      "0.24817246933465495\n",
      "0.751827530665345\n"
     ]
    },
    {
     "name": "stderr",
     "output_type": "stream",
     "text": [
      "/var/folders/xb/h53k7r3j5_55k9r3s9dzr_tr0000gn/T/ipykernel_67035/2952110587.py:3: RuntimeWarning: overflow encountered in exp\n",
      "  num = np.exp(0.5*(x-mean)**2 / (std_dev+1e-8), dtype='float')\n",
      "/var/folders/xb/h53k7r3j5_55k9r3s9dzr_tr0000gn/T/ipykernel_67035/763660226.py:8: RuntimeWarning: invalid value encountered in double_scalars\n",
      "  lrt = s_lh/ns_lh\n"
     ]
    }
   ],
   "source": [
    "threshold = 1e-11\n",
    "preds = prediction(test_features, threshold, f_idx)\n",
    "correct = 0\n",
    "wrong = 0\n",
    "for t, p in zip(test_labels, preds):\n",
    "    if t == p:\n",
    "        correct += 1\n",
    "    else:\n",
    "        wrong += 1\n",
    "print(correct/len(test_labels))\n",
    "print(wrong/len(test_labels))\n"
   ]
  },
  {
   "cell_type": "code",
   "execution_count": null,
   "metadata": {},
   "outputs": [],
   "source": []
  },
  {
   "cell_type": "code",
   "execution_count": null,
   "metadata": {},
   "outputs": [],
   "source": []
  }
 ],
 "metadata": {
  "kernelspec": {
   "display_name": ".venv",
   "language": "python",
   "name": "python3"
  },
  "language_info": {
   "codemirror_mode": {
    "name": "ipython",
    "version": 3
   },
   "file_extension": ".py",
   "mimetype": "text/x-python",
   "name": "python",
   "nbconvert_exporter": "python",
   "pygments_lexer": "ipython3",
   "version": "3.10.9"
  },
  "orig_nbformat": 4
 },
 "nbformat": 4,
 "nbformat_minor": 2
}
